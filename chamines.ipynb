{
 "cells": [
  {
   "cell_type": "code",
   "execution_count": 185,
   "id": "3986ba56",
   "metadata": {},
   "outputs": [],
   "source": [
    "import os\n",
    "from os import listdir\n",
    "import PIL\n",
    "from PIL import Image\n",
    "import matplotlib.pyplot as plt\n",
    "import pandas as pd\n",
    "import numpy as np\n",
    "from sklearn.preprocessing import MinMaxScaler"
   ]
  },
  {
   "cell_type": "code",
   "execution_count": 186,
   "id": "90464000",
   "metadata": {},
   "outputs": [],
   "source": [
    "path_init = '/Users/marcooliveira/Desktop/recaptcha'\n",
    "#os.chdir(path_init)\n",
    "\n",
    "dir_true = path_init + '/filtered chimneys'\n",
    "dir_false = path_init + '/filtered other' #carrinhos"
   ]
  },
  {
   "cell_type": "code",
   "execution_count": 187,
   "id": "1a73dbd9",
   "metadata": {},
   "outputs": [
    {
     "name": "stdout",
     "output_type": "stream",
     "text": [
      "/Users/marcooliveira/Desktop/recaptcha\n"
     ]
    }
   ],
   "source": [
    "print(os.getcwd())"
   ]
  },
  {
   "cell_type": "code",
   "execution_count": 199,
   "id": "5bbe12f5",
   "metadata": {},
   "outputs": [],
   "source": [
    "def load_images(path):\n",
    "    # return array of images\n",
    "\n",
    "    images_list = listdir(path)\n",
    "    loaded_images = []\n",
    "    \n",
    "    for image in images_list:\n",
    "        img = PImage.open(path + image)\n",
    "        loaded_images.append(img)\n",
    "    \n",
    "    return np.array(loaded_images)"
   ]
  },
  {
   "cell_type": "code",
   "execution_count": 200,
   "id": "ba67759d",
   "metadata": {},
   "outputs": [
    {
     "ename": "TypeError",
     "evalue": "int() argument must be a string, a bytes-like object or a number, not 'PngImageFile'",
     "output_type": "error",
     "traceback": [
      "\u001b[0;31m---------------------------------------------------------------------------\u001b[0m",
      "\u001b[0;31mTypeError\u001b[0m                                 Traceback (most recent call last)",
      "\u001b[0;32m<ipython-input-200-dec2236cf62a>\u001b[0m in \u001b[0;36m<module>\u001b[0;34m\u001b[0m\n\u001b[0;32m----> 1\u001b[0;31m \u001b[0mimgs_true\u001b[0m \u001b[0;34m=\u001b[0m \u001b[0mload_images\u001b[0m\u001b[0;34m(\u001b[0m\u001b[0mdir_true\u001b[0m \u001b[0;34m+\u001b[0m \u001b[0;34m'/'\u001b[0m\u001b[0;34m)\u001b[0m\u001b[0;34m\u001b[0m\u001b[0;34m\u001b[0m\u001b[0m\n\u001b[0m\u001b[1;32m      2\u001b[0m \u001b[0mimgs_false\u001b[0m \u001b[0;34m=\u001b[0m \u001b[0mload_images\u001b[0m\u001b[0;34m(\u001b[0m\u001b[0mdir_false\u001b[0m \u001b[0;34m+\u001b[0m \u001b[0;34m'/'\u001b[0m\u001b[0;34m)\u001b[0m\u001b[0;34m\u001b[0m\u001b[0;34m\u001b[0m\u001b[0m\n",
      "\u001b[0;32m<ipython-input-199-bb7d9f231d3e>\u001b[0m in \u001b[0;36mload_images\u001b[0;34m(path)\u001b[0m\n\u001b[1;32m      9\u001b[0m         \u001b[0mloaded_images\u001b[0m\u001b[0;34m.\u001b[0m\u001b[0mappend\u001b[0m\u001b[0;34m(\u001b[0m\u001b[0mimg\u001b[0m\u001b[0;34m)\u001b[0m\u001b[0;34m\u001b[0m\u001b[0;34m\u001b[0m\u001b[0m\n\u001b[1;32m     10\u001b[0m \u001b[0;34m\u001b[0m\u001b[0m\n\u001b[0;32m---> 11\u001b[0;31m     \u001b[0;32mreturn\u001b[0m \u001b[0mnp\u001b[0m\u001b[0;34m.\u001b[0m\u001b[0marray\u001b[0m\u001b[0;34m(\u001b[0m\u001b[0mloaded_images\u001b[0m\u001b[0;34m)\u001b[0m\u001b[0;34m\u001b[0m\u001b[0;34m\u001b[0m\u001b[0m\n\u001b[0m",
      "\u001b[0;31mTypeError\u001b[0m: int() argument must be a string, a bytes-like object or a number, not 'PngImageFile'"
     ]
    }
   ],
   "source": [
    "imgs_true = load_images(dir_true + '/')\n",
    "imgs_false = load_images(dir_false + '/')"
   ]
  },
  {
   "cell_type": "code",
   "execution_count": null,
   "id": "750d6ce9",
   "metadata": {},
   "outputs": [],
   "source": [
    "imgs_true.shape"
   ]
  },
  {
   "cell_type": "code",
   "execution_count": null,
   "id": "8ae192a8",
   "metadata": {},
   "outputs": [],
   "source": [
    "#scalling and flattening\n",
    "imgs_true = imgs_true"
   ]
  },
  {
   "cell_type": "code",
   "execution_count": null,
   "id": "7f5f2ba9",
   "metadata": {},
   "outputs": [],
   "source": []
  },
  {
   "cell_type": "raw",
   "id": "acd957fa",
   "metadata": {},
   "source": [
    "df = pd.DataFrame(imgs_true)"
   ]
  },
  {
   "cell_type": "code",
   "execution_count": null,
   "id": "994544de",
   "metadata": {},
   "outputs": [],
   "source": [
    "df"
   ]
  },
  {
   "cell_type": "code",
   "execution_count": null,
   "id": "d281bc29",
   "metadata": {},
   "outputs": [],
   "source": []
  }
 ],
 "metadata": {
  "kernelspec": {
   "display_name": "Python 3",
   "language": "python",
   "name": "python3"
  },
  "language_info": {
   "codemirror_mode": {
    "name": "ipython",
    "version": 3
   },
   "file_extension": ".py",
   "mimetype": "text/x-python",
   "name": "python",
   "nbconvert_exporter": "python",
   "pygments_lexer": "ipython3",
   "version": "3.8.8"
  }
 },
 "nbformat": 4,
 "nbformat_minor": 5
}
